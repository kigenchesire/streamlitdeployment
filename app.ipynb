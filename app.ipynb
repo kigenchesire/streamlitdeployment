{
 "cells": [
  {
   "cell_type": "code",
   "execution_count": 6,
   "metadata": {},
   "outputs": [
    {
     "ename": "FileNotFoundError",
     "evalue": "[Errno 2] No such file or directory: 'model.pkl'",
     "output_type": "error",
     "traceback": [
      "\u001b[1;31m---------------------------------------------------------------------------\u001b[0m",
      "\u001b[1;31mFileNotFoundError\u001b[0m                         Traceback (most recent call last)",
      "\u001b[1;32mc:\\Users\\ekche\\Desktop\\DEPLOYMENT\\app.ipynb Cell 1\u001b[0m in \u001b[0;36m4\n\u001b[0;32m      <a href='vscode-notebook-cell:/c%3A/Users/ekche/Desktop/DEPLOYMENT/app.ipynb#W0sZmlsZQ%3D%3D?line=1'>2</a>\u001b[0m \u001b[39mimport\u001b[39;00m \u001b[39mpickle\u001b[39;00m\n\u001b[0;32m      <a href='vscode-notebook-cell:/c%3A/Users/ekche/Desktop/DEPLOYMENT/app.ipynb#W0sZmlsZQ%3D%3D?line=2'>3</a>\u001b[0m \u001b[39mimport\u001b[39;00m \u001b[39mnumpy\u001b[39;00m \u001b[39mas\u001b[39;00m \u001b[39mnp\u001b[39;00m\n\u001b[1;32m----> <a href='vscode-notebook-cell:/c%3A/Users/ekche/Desktop/DEPLOYMENT/app.ipynb#W0sZmlsZQ%3D%3D?line=3'>4</a>\u001b[0m model \u001b[39m=\u001b[39m pickle\u001b[39m.\u001b[39mload(\u001b[39mopen\u001b[39;49m(\u001b[39m'\u001b[39;49m\u001b[39mmodel.pkl\u001b[39;49m\u001b[39m'\u001b[39;49m,\u001b[39m'\u001b[39;49m\u001b[39mrb\u001b[39;49m\u001b[39m'\u001b[39;49m))\n",
      "\u001b[1;31mFileNotFoundError\u001b[0m: [Errno 2] No such file or directory: 'model.pkl'"
     ]
    }
   ],
   "source": [
    "import streamlit as st\n",
    "import pickle\n",
    "import numpy as np\n",
    "model = pickle.load(open('model.pkl','rb'))"
   ]
  },
  {
   "cell_type": "code",
   "execution_count": 1,
   "metadata": {},
   "outputs": [],
   "source": [
    "def predict_age(Length,Diameter,Height,Whole_weight,Shucked_weight,\n",
    "                Viscera_weight,Shell_weight):\n",
    "    input=np.array([[Length,Diameter,Height,Whole_weight,Shucked_weight,\n",
    "                     Viscera_weight,Shell_weight]]).astype(np.float64)\n",
    "    prediction = model.predict(input)\n",
    "    \n",
    "    return int(prediction)"
   ]
  },
  {
   "cell_type": "code",
   "execution_count": 2,
   "metadata": {},
   "outputs": [],
   "source": [
    "def main():\n",
    "    st.title(\"Abalone Age Prediction\")\n",
    "    html_temp = \"\"\"\n",
    "    <div style=\"background:#025246 ;padding:10px\">\n",
    "    <h2 style=\"color:white;text-align:center;\"> Abalone Age Prediction ML App </h2>\n",
    "    </div>\n",
    "    \"\"\"\n",
    "    st.markdown(html_temp, unsafe_allow_html = True)\n",
    "    Length = st.text_input(\"Length\",\"Type Here\")\n",
    "    Diameter = st.text_input(\"Diameter\",\"Type Here\")\n",
    "    Height = st.text_input(\"Height\",\"Type Here\")\n",
    "    Whole_weight = st.text_input(\"Whole weight\",\"Type Here\")\n",
    "    Shucked_weight = st.text_input(\"Shucked weight\",\"Type Here\")\n",
    "    Viscera_weight = st.text_input(\"Viscera weight\",\"Type Here\")\n",
    "    Shell_weight = st.text_input(\"Shell weight\",\"Type Here\")\n",
    "    safe_html =\"\"\"  \n",
    "    <div style=\"background-color:#80ff80; padding:10px >\n",
    "    <h2 style=\"color:white;text-align:center;\"> The Abalone is young</h2>\n",
    "    </div>\n",
    "    \"\"\"\n",
    "    if st.button(\"Predict the age\"):\n",
    "        output = predict_age(Length,Diameter,Height,Whole_weight,\n",
    "        Shucked_weight,Viscera_weight,Shell_weight)\n",
    "        st.success('The age is {}'.format(output))\n",
    "\n",
    "        if output == 1:\n",
    "          st.markdown(safe_html,unsafe_allow_html=True)\n",
    "        elif output == 2:\n",
    "          st.markdown(warn_html,unsafe_allow_html=True)\n",
    "        elif output == 3:\n",
    "          st.markdown(danger_html,unsafe_allow_html=True)\n"
   ]
  },
  {
   "cell_type": "code",
   "execution_count": 5,
   "metadata": {},
   "outputs": [],
   "source": []
  },
  {
   "cell_type": "code",
   "execution_count": 9,
   "metadata": {},
   "outputs": [],
   "source": []
  },
  {
   "cell_type": "code",
   "execution_count": 3,
   "metadata": {},
   "outputs": [
    {
     "ename": "NameError",
     "evalue": "name 'st' is not defined",
     "output_type": "error",
     "traceback": [
      "\u001b[1;31m---------------------------------------------------------------------------\u001b[0m",
      "\u001b[1;31mNameError\u001b[0m                                 Traceback (most recent call last)",
      "\u001b[1;32mc:\\Users\\ekche\\Desktop\\DEPLOYMENT\\app.ipynb Cell 6\u001b[0m in \u001b[0;36m2\n\u001b[0;32m      <a href='vscode-notebook-cell:/c%3A/Users/ekche/Desktop/DEPLOYMENT/app.ipynb#W5sZmlsZQ%3D%3D?line=0'>1</a>\u001b[0m \u001b[39mif\u001b[39;00m \u001b[39m__name__\u001b[39m\u001b[39m==\u001b[39m\u001b[39m'\u001b[39m\u001b[39m__main__\u001b[39m\u001b[39m'\u001b[39m:\n\u001b[1;32m----> <a href='vscode-notebook-cell:/c%3A/Users/ekche/Desktop/DEPLOYMENT/app.ipynb#W5sZmlsZQ%3D%3D?line=1'>2</a>\u001b[0m     main()\n",
      "\u001b[1;32mc:\\Users\\ekche\\Desktop\\DEPLOYMENT\\app.ipynb Cell 6\u001b[0m in \u001b[0;36m2\n\u001b[0;32m      <a href='vscode-notebook-cell:/c%3A/Users/ekche/Desktop/DEPLOYMENT/app.ipynb#W5sZmlsZQ%3D%3D?line=0'>1</a>\u001b[0m \u001b[39mdef\u001b[39;00m \u001b[39mmain\u001b[39m():\n\u001b[1;32m----> <a href='vscode-notebook-cell:/c%3A/Users/ekche/Desktop/DEPLOYMENT/app.ipynb#W5sZmlsZQ%3D%3D?line=1'>2</a>\u001b[0m     st\u001b[39m.\u001b[39mtitle(\u001b[39m\"\u001b[39m\u001b[39mAbalone Age Prediction\u001b[39m\u001b[39m\"\u001b[39m)\n\u001b[0;32m      <a href='vscode-notebook-cell:/c%3A/Users/ekche/Desktop/DEPLOYMENT/app.ipynb#W5sZmlsZQ%3D%3D?line=2'>3</a>\u001b[0m     html_temp \u001b[39m=\u001b[39m \u001b[39m\"\"\"\u001b[39m\n\u001b[0;32m      <a href='vscode-notebook-cell:/c%3A/Users/ekche/Desktop/DEPLOYMENT/app.ipynb#W5sZmlsZQ%3D%3D?line=3'>4</a>\u001b[0m \u001b[39m    <div style=\u001b[39m\u001b[39m\"\u001b[39m\u001b[39mbackground:#025246 ;padding:10px\u001b[39m\u001b[39m\"\u001b[39m\u001b[39m>\u001b[39m\n\u001b[0;32m      <a href='vscode-notebook-cell:/c%3A/Users/ekche/Desktop/DEPLOYMENT/app.ipynb#W5sZmlsZQ%3D%3D?line=4'>5</a>\u001b[0m \u001b[39m    <h2 style=\u001b[39m\u001b[39m\"\u001b[39m\u001b[39mcolor:white;text-align:center;\u001b[39m\u001b[39m\"\u001b[39m\u001b[39m> Abalone Age Prediction ML App </h2>\u001b[39m\n\u001b[0;32m      <a href='vscode-notebook-cell:/c%3A/Users/ekche/Desktop/DEPLOYMENT/app.ipynb#W5sZmlsZQ%3D%3D?line=5'>6</a>\u001b[0m \u001b[39m    </div>\u001b[39m\n\u001b[0;32m      <a href='vscode-notebook-cell:/c%3A/Users/ekche/Desktop/DEPLOYMENT/app.ipynb#W5sZmlsZQ%3D%3D?line=6'>7</a>\u001b[0m \u001b[39m    \u001b[39m\u001b[39m\"\"\"\u001b[39m\n\u001b[0;32m      <a href='vscode-notebook-cell:/c%3A/Users/ekche/Desktop/DEPLOYMENT/app.ipynb#W5sZmlsZQ%3D%3D?line=7'>8</a>\u001b[0m     st\u001b[39m.\u001b[39mmarkdown(html_temp, unsafe_allow_html \u001b[39m=\u001b[39m \u001b[39mTrue\u001b[39;00m)\n",
      "\u001b[1;31mNameError\u001b[0m: name 'st' is not defined"
     ]
    }
   ],
   "source": [
    "if __name__=='__main__':\n",
    "    main()"
   ]
  }
 ],
 "metadata": {
  "kernelspec": {
   "display_name": "Python 3",
   "language": "python",
   "name": "python3"
  },
  "language_info": {
   "codemirror_mode": {
    "name": "ipython",
    "version": 3
   },
   "file_extension": ".py",
   "mimetype": "text/x-python",
   "name": "python",
   "nbconvert_exporter": "python",
   "pygments_lexer": "ipython3",
   "version": "3.10.5"
  },
  "orig_nbformat": 4,
  "vscode": {
   "interpreter": {
    "hash": "b62ee34c06e379f2066006294da16169d94ba17b9f5d7e9ea81e56fedcfd63c0"
   }
  }
 },
 "nbformat": 4,
 "nbformat_minor": 2
}
