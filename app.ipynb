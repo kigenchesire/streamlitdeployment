{
 "cells": [
  {
   "cell_type": "code",
   "execution_count": 1,
   "metadata": {},
   "outputs": [],
   "source": [
    "import streamlit as st\n",
    "import pickle\n",
    "import numpy as np\n",
    "model = pickle.load(open('model.pkl','rb'))"
   ]
  },
  {
   "cell_type": "code",
   "execution_count": 2,
   "metadata": {},
   "outputs": [],
   "source": [
    "def predict_age(Length,Diameter,Height,Whole_weight,Shucked_weight,\n",
    "                Viscera_weight,Shell_weight):\n",
    "    input=np.array([[Length,Diameter,Height,Whole_weight,Shucked_weight,\n",
    "                     Viscera_weight,Shell_weight]]).astype(np.float64)\n",
    "    prediction = model.predict(input)\n",
    "    \n",
    "    return int(prediction)"
   ]
  },
  {
   "cell_type": "code",
   "execution_count": 13,
   "metadata": {},
   "outputs": [],
   "source": [
    "def main():\n",
    "    st.title(\"Abalone Age Prediction\")\n",
    "    html_temp = \"\"\"\n",
    "    <div style=\"background:#025246 ;padding:10px\">\n",
    "    <h2 style=\"color:white;text-align:center;\"> Abalone Age Prediction ML App </h2>\n",
    "    </div>\n",
    "    \"\"\"\n",
    "    st.markdown(html_temp, unsafe_allow_html = True)\n",
    "    Length = st.text_input(\"Length\",\"Type Here\")\n",
    "    Diameter = st.text_input(\"Diameter\",\"Type Here\")\n",
    "    Height = st.text_input(\"Height\",\"Type Here\")\n",
    "    Whole_weight = st.text_input(\"Whole weight\",\"Type Here\")\n",
    "    Shucked_weight = st.text_input(\"Shucked weight\",\"Type Here\")\n",
    "    Viscera_weight = st.text_input(\"Viscera weight\",\"Type Here\")\n",
    "    Shell_weight = st.text_input(\"Shell weight\",\"Type Here\")\n",
    "    safe_html =\"\"\"  \n",
    "    <div style=\"background-color:#80ff80; padding:10px >\n",
    "    <h2 style=\"color:white;text-align:center;\"> The Abalone is young</h2>\n",
    "    </div>\n",
    "    \"\"\"\n",
    "    if st.button(\"Predict the age\"):\n",
    "        output = predict_age(Length,Diameter,Height,Whole_weight,\n",
    "        Shucked_weight,Viscera_weight,Shell_weight)\n",
    "        st.success('The age is {}'.format(output))\n",
    "\n",
    "        if output == 1:\n",
    "          st.markdown(safe_html,unsafe_allow_html=True)\n",
    "        elif output == 2:\n",
    "          st.markdown(warn_html,unsafe_allow_html=True)\n",
    "        elif output == 3:\n",
    "          st.markdown(danger_html,unsafe_allow_html=True)\n"
   ]
  },
  {
   "cell_type": "code",
   "execution_count": 5,
   "metadata": {},
   "outputs": [],
   "source": []
  },
  {
   "cell_type": "code",
   "execution_count": 9,
   "metadata": {},
   "outputs": [],
   "source": []
  },
  {
   "cell_type": "code",
   "execution_count": 14,
   "metadata": {},
   "outputs": [],
   "source": [
    "if __name__=='__main__':\n",
    "    main()"
   ]
  }
 ],
 "metadata": {
  "kernelspec": {
   "display_name": "Python 3",
   "language": "python",
   "name": "python3"
  },
  "language_info": {
   "codemirror_mode": {
    "name": "ipython",
    "version": 3
   },
   "file_extension": ".py",
   "mimetype": "text/x-python",
   "name": "python",
   "nbconvert_exporter": "python",
   "pygments_lexer": "ipython3",
   "version": "3.10.5"
  },
  "orig_nbformat": 4,
  "vscode": {
   "interpreter": {
    "hash": "b62ee34c06e379f2066006294da16169d94ba17b9f5d7e9ea81e56fedcfd63c0"
   }
  }
 },
 "nbformat": 4,
 "nbformat_minor": 2
}
